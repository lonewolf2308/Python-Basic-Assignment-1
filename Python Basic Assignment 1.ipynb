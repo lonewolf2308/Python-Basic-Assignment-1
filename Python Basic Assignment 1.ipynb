{
 "cells": [
  {
   "cell_type": "code",
   "execution_count": null,
   "id": "c693838f",
   "metadata": {},
   "outputs": [],
   "source": [
    "1. In the below elements which of them are values or an expression? eg:- values can be\n",
    "integer or string and expressions will be mathematical operators.\n",
    "\n",
    "\n",
    "*  ----expression\n",
    "\n",
    "'hello'----value\n",
    "\n",
    "-87.8 ------value\n",
    "\n",
    "-    ----expression\n",
    "\n",
    "/    ------expression \n",
    "\n",
    "+  -------expression\n",
    "\n",
    "6  -------value"
   ]
  },
  {
   "cell_type": "code",
   "execution_count": null,
   "id": "9ff584f3",
   "metadata": {},
   "outputs": [],
   "source": [
    "2. What is the difference between string and variable?\n",
    "\n",
    "\n",
    "String: String can be written in quotes such: \"vivek\", 'delhi'\n",
    "\n",
    "Variable: It is the thing in which we can store data just like a box.\n"
   ]
  },
  {
   "cell_type": "code",
   "execution_count": null,
   "id": "f2860840",
   "metadata": {},
   "outputs": [],
   "source": [
    "3. Describe three different data types?\n",
    "\n",
    "\n",
    "List: the list is used for storing multiple data items in a single variable.\n",
    "\n",
    "Integer: integer can store only numerical values, like 23, 34, 12\n",
    "\n",
    "Float: float can store only floating values such as 12.54, 4.9, etc.\n"
   ]
  },
  {
   "cell_type": "code",
   "execution_count": null,
   "id": "edd858a4",
   "metadata": {},
   "outputs": [],
   "source": [
    "4. What is an expression made up of? What do all expressions do? \n",
    "\n",
    "\n",
    "Expression is made up of values, containers, and mathematical operators e.g \n",
    "\n",
    "     a = 3 + 5     and expressions are used to evaluate the values or represent the result on the screen."
   ]
  },
  {
   "cell_type": "code",
   "execution_count": null,
   "id": "da12594f",
   "metadata": {},
   "outputs": [],
   "source": [
    "5. This assignment statements, like spam = 10. What is the difference between an expression and a statement?\n",
    "\n",
    "\n",
    "Expression is made up of values, containers, and mathematical operators and the statement is just like a command that a python interpreter executes like print."
   ]
  },
  {
   "cell_type": "code",
   "execution_count": null,
   "id": "4ecb6a9d",
   "metadata": {},
   "outputs": [],
   "source": [
    "6. After running the following code, what does the variable bacon contain?\n",
    "\n",
    "bacon = 22\n",
    "bacon + 1\n",
    "\n",
    "\n",
    "It gives 23 as a execution code and the code is mentioned below"
   ]
  },
  {
   "cell_type": "code",
   "execution_count": 3,
   "id": "343e9711",
   "metadata": {},
   "outputs": [
    {
     "data": {
      "text/plain": [
       "23"
      ]
     },
     "execution_count": 3,
     "metadata": {},
     "output_type": "execute_result"
    }
   ],
   "source": [
    "bacon = 22\n",
    "bacon +1"
   ]
  },
  {
   "cell_type": "code",
   "execution_count": null,
   "id": "02f9c93f",
   "metadata": {},
   "outputs": [],
   "source": [
    "7. What should the values of the following two terms be?\n",
    "\n",
    "'spam' + 'spamspam'\n",
    "\n",
    "'spam' * 3\n",
    "\n",
    "\n"
   ]
  },
  {
   "cell_type": "code",
   "execution_count": 4,
   "id": "76828701",
   "metadata": {},
   "outputs": [
    {
     "data": {
      "text/plain": [
       "'spamspamspam'"
      ]
     },
     "execution_count": 4,
     "metadata": {},
     "output_type": "execute_result"
    }
   ],
   "source": [
    "'spam' + 'spamspam'"
   ]
  },
  {
   "cell_type": "code",
   "execution_count": 5,
   "id": "73fe3522",
   "metadata": {},
   "outputs": [
    {
     "data": {
      "text/plain": [
       "'spamspamspam'"
      ]
     },
     "execution_count": 5,
     "metadata": {},
     "output_type": "execute_result"
    }
   ],
   "source": [
    "'spam' *3"
   ]
  },
  {
   "cell_type": "code",
   "execution_count": null,
   "id": "e1e67163",
   "metadata": {},
   "outputs": [],
   "source": [
    "8. Why is eggs a valid variable name while 100 is invalid?\n",
    "\n",
    "\n",
    " Eggs is a valid variable name while 100 is invalid because we can't start giving variable an integer name. If we should begin with, a string-like alphabet name then integer. e100 or eggs100 is valid"
   ]
  },
  {
   "cell_type": "code",
   "execution_count": null,
   "id": "46a22b94",
   "metadata": {},
   "outputs": [],
   "source": [
    "9. What three functions can be used to get the integer, floating-point number, or string version of a value?\n",
    "\n",
    "\n",
    " str(), int(), float()"
   ]
  },
  {
   "cell_type": "code",
   "execution_count": null,
   "id": "d5081e75",
   "metadata": {},
   "outputs": [],
   "source": [
    "10. Why does this expression cause an error? How can you fix it?\n",
    "\n",
    "'I have eaten' + 99 + 'burritos' \n",
    "\n",
    "\n",
    "\n",
    "It will cause an error as 99 is an integer it cannot be concatenated with strings, if we have to concatenate it we need to do typecasting.\n",
    "\n"
   ]
  }
 ],
 "metadata": {
  "kernelspec": {
   "display_name": "Python 3 (ipykernel)",
   "language": "python",
   "name": "python3"
  },
  "language_info": {
   "codemirror_mode": {
    "name": "ipython",
    "version": 3
   },
   "file_extension": ".py",
   "mimetype": "text/x-python",
   "name": "python",
   "nbconvert_exporter": "python",
   "pygments_lexer": "ipython3",
   "version": "3.9.7"
  }
 },
 "nbformat": 4,
 "nbformat_minor": 5
}
